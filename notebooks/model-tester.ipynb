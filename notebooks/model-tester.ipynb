{
 "cells": [
  {
   "cell_type": "code",
   "execution_count": null,
   "id": "cd8c4208",
   "metadata": {},
   "outputs": [],
   "source": [
    "import os, sys\n",
    "sys.path.append(os.path.dirname(os.getcwd()))\n",
    "\n",
    "print(sys.path)"
   ]
  },
  {
   "cell_type": "code",
   "execution_count": null,
   "id": "aaeeaa82",
   "metadata": {},
   "outputs": [],
   "source": [
    "from tidyphotos import core as co\n",
    "from tidyphotos import fs\n",
    "from tidyphotos import plots as plots"
   ]
  },
  {
   "cell_type": "markdown",
   "id": "bfe3cbd5",
   "metadata": {},
   "source": [
    "## Hide warnings and check TF version"
   ]
  },
  {
   "cell_type": "code",
   "execution_count": null,
   "id": "8e6620f4",
   "metadata": {},
   "outputs": [],
   "source": [
    "co.ignore_warnings()\n",
    "print(co.versions())"
   ]
  },
  {
   "cell_type": "markdown",
   "id": "fa934710",
   "metadata": {},
   "source": [
    "## Configure model params"
   ]
  },
  {
   "cell_type": "code",
   "execution_count": null,
   "id": "22c70f95",
   "metadata": {},
   "outputs": [],
   "source": [
    "img_dir = os.path.abspath('../data/test')\n",
    "\n",
    "if not os.path.isdir(img_dir):\n",
    "    raise Exception(f\"Path is not a valid directory: {img_dir}\")\n",
    "\n",
    "img_size = (800, 480)"
   ]
  },
  {
   "cell_type": "markdown",
   "id": "facd12f3",
   "metadata": {},
   "source": [
    "## Load model, and check its architecture"
   ]
  },
  {
   "cell_type": "code",
   "execution_count": null,
   "id": "adcaf506",
   "metadata": {},
   "outputs": [],
   "source": [
    "class_names = ['photo', 'screenshot'] # should be in the same order as the ones printed in model-builder.ipynb\n",
    "\n",
    "(model, _) = co.load_model_from_disk('screenshot-detector-model')\n",
    "model.summary()"
   ]
  },
  {
   "cell_type": "markdown",
   "id": "6f1157cd",
   "metadata": {},
   "source": [
    "## Predict on new data"
   ]
  },
  {
   "cell_type": "code",
   "execution_count": null,
   "id": "40df0651",
   "metadata": {},
   "outputs": [],
   "source": [
    "predictions_df = co.predict_dir(model, img_dir, image_size=img_size, class_names=class_names, low_score_class_map={\n",
    "    \"photo\": \"screenshot\",\n",
    "    \"screenshot\": \"photo\"\n",
    "}, score_threshold=70)\n",
    "predictions_df"
   ]
  },
  {
   "cell_type": "code",
   "execution_count": null,
   "id": "785fb79d",
   "metadata": {},
   "outputs": [],
   "source": []
  }
 ],
 "metadata": {
  "kernelspec": {
   "display_name": "ML Python 3.8",
   "language": "python",
   "name": "mlp38"
  },
  "language_info": {
   "codemirror_mode": {
    "name": "ipython",
    "version": 3
   },
   "file_extension": ".py",
   "mimetype": "text/x-python",
   "name": "python",
   "nbconvert_exporter": "python",
   "pygments_lexer": "ipython3",
   "version": "3.8.13"
  }
 },
 "nbformat": 4,
 "nbformat_minor": 5
}
