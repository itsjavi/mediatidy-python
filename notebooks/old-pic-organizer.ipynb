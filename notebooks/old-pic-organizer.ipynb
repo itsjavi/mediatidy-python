{
 "cells": [
  {
   "cell_type": "code",
   "execution_count": null,
   "id": "3c65c86a",
   "metadata": {},
   "outputs": [],
   "source": [
    "# Prototype notebook to organize the images. This will be converted to a regular python script."
   ]
  },
  {
   "cell_type": "code",
   "execution_count": null,
   "id": "622779e2",
   "metadata": {},
   "outputs": [],
   "source": [
    "import core as co"
   ]
  },
  {
   "cell_type": "markdown",
   "id": "41e1c175",
   "metadata": {},
   "source": [
    "## Hide warnings and check TF version"
   ]
  },
  {
   "cell_type": "code",
   "execution_count": null,
   "id": "350e88e3",
   "metadata": {},
   "outputs": [],
   "source": [
    "co.ignore_warnings()\n",
    "print(co.versions())"
   ]
  },
  {
   "cell_type": "markdown",
   "id": "c1adbf69",
   "metadata": {},
   "source": [
    "# Find images in directory"
   ]
  },
  {
   "cell_type": "code",
   "execution_count": null,
   "id": "236fe852",
   "metadata": {},
   "outputs": [],
   "source": [
    "imgfiles = co.get_images_recursive(\"input/\")\n",
    "imgdata = co.get_images_metadata(imgfiles)\n",
    "imgdata"
   ]
  },
  {
   "cell_type": "markdown",
   "id": "6fbebdbe",
   "metadata": {},
   "source": [
    "## Load model with class names, and check architecture"
   ]
  },
  {
   "cell_type": "code",
   "execution_count": null,
   "id": "e8609ca6",
   "metadata": {},
   "outputs": [],
   "source": [
    "(model, class_names) = co.load_model('model01')\n",
    "print(class_names)\n",
    "model.summary()"
   ]
  },
  {
   "cell_type": "markdown",
   "id": "36827f82",
   "metadata": {},
   "source": [
    "## Predict on new data"
   ]
  },
  {
   "cell_type": "code",
   "execution_count": null,
   "id": "79260eb4",
   "metadata": {},
   "outputs": [],
   "source": [
    "img_size = co.IMG_SIZE\n",
    "imgdata['pred_class'] = None\n",
    "imgdata['pred_confidence'] = None\n",
    "\n",
    "predictions_df = co.predict_df(model, imgdata, image_size=img_size, class_names=class_names)\n",
    "predictions_df"
   ]
  },
  {
   "cell_type": "code",
   "execution_count": null,
   "id": "a0ebc5cc",
   "metadata": {},
   "outputs": [],
   "source": [
    "predictions_df[predictions_df['pred_class']=='screenshot'].shape"
   ]
  },
  {
   "cell_type": "code",
   "execution_count": null,
   "id": "f052311a",
   "metadata": {},
   "outputs": [],
   "source": [
    "predictions_df[predictions_df['pred_class']=='photo'].shape"
   ]
  },
  {
   "cell_type": "code",
   "execution_count": null,
   "id": "1806e17d",
   "metadata": {},
   "outputs": [],
   "source": [
    "import pathlib\n",
    "import os\n",
    "import shutil\n",
    "import hashlib\n",
    "from PIL import Image\n",
    "\n",
    "output_dir = os.path.abspath(\"output\")\n",
    "\n",
    "copied = 0\n",
    "not_copied = 0\n",
    "print(\"Copying images...\")\n",
    "for index, row in predictions_df.iterrows():\n",
    "    src_file = row['path']\n",
    "    \n",
    "    # move this to metadata df\n",
    "    img = Image.open(src_file)\n",
    "    md5hash = hashlib.md5(img.tobytes()).hexdigest()\n",
    "    img.close()\n",
    "    \n",
    "    file_ext = pathlib.Path(src_file).suffix\n",
    "    dest_path = os.path.join(output_dir, row['pred_class']) #, row['cyear'])\n",
    "    dest_file = os.path.join(dest_path, row['cdate'] + '-' + md5hash[0:7] + file_ext)\n",
    "    if not os.path.exists(dest_path):\n",
    "        os.makedirs(dest_path)\n",
    "    \n",
    "    if not os.path.exists(dest_file):\n",
    "        shutil.copy2(src_file, dest_file) # copy2 = copy with metadata\n",
    "        copied+=1\n",
    "    else:\n",
    "        not_copied+=1\n",
    "\n",
    "print(f\"Copied {copied}/{len(predictions_df)} images. Not copied: {not_copied}\")"
   ]
  },
  {
   "cell_type": "code",
   "execution_count": null,
   "id": "50cfad27",
   "metadata": {},
   "outputs": [],
   "source": []
  }
 ],
 "metadata": {
  "kernelspec": {
   "display_name": "ML Python 3.8",
   "language": "python",
   "name": "mlp38"
  },
  "language_info": {
   "codemirror_mode": {
    "name": "ipython",
    "version": 3
   },
   "file_extension": ".py",
   "mimetype": "text/x-python",
   "name": "python",
   "nbconvert_exporter": "python",
   "pygments_lexer": "ipython3",
   "version": "3.8.13"
  }
 },
 "nbformat": 4,
 "nbformat_minor": 5
}
