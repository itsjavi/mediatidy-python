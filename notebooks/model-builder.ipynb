{
 "cells": [
  {
   "cell_type": "code",
   "execution_count": null,
   "id": "ed7c4dda",
   "metadata": {},
   "outputs": [],
   "source": [
    "import os, sys\n",
    "sys.path.append(os.path.dirname(os.getcwd()))\n",
    "\n",
    "print(sys.path)"
   ]
  },
  {
   "cell_type": "code",
   "execution_count": null,
   "id": "2ec7b9ea",
   "metadata": {},
   "outputs": [],
   "source": [
    "from tidyphotos import core as co\n",
    "from tidyphotos import fs\n",
    "from tidyphotos import plots as plots\n",
    "import os"
   ]
  },
  {
   "cell_type": "markdown",
   "id": "99efd5b2",
   "metadata": {},
   "source": [
    "## Hide warnings and check TF version"
   ]
  },
  {
   "cell_type": "code",
   "execution_count": null,
   "id": "cefa28b3",
   "metadata": {},
   "outputs": [],
   "source": [
    "co.ignore_warnings()\n",
    "print(co.versions()) # if Tensorflow is installed correctly, it should show the versions of TF and Keras (and should be >= 2.9)"
   ]
  },
  {
   "cell_type": "markdown",
   "id": "a5b3cbd7",
   "metadata": {},
   "source": [
    "## Configure model params"
   ]
  },
  {
   "cell_type": "code",
   "execution_count": null,
   "id": "1b699321",
   "metadata": {},
   "outputs": [],
   "source": [
    "img_size = (800, 480) # image will be stretched/reduced to be exactly this size\n",
    "img_dir = os.path.abspath('../data/train')\n",
    "\n",
    "if not os.path.isdir(img_dir):\n",
    "    raise Exception(f\"Path is not a valid directory: {img_dir}\")\n",
    "\n",
    "batch_size = 32\n",
    "validation_split = 0.2\n",
    "epochs = 15"
   ]
  },
  {
   "cell_type": "markdown",
   "id": "7c823a12",
   "metadata": {},
   "source": [
    "## Create optimized train and validation datasets"
   ]
  },
  {
   "cell_type": "code",
   "execution_count": null,
   "id": "b1517f67",
   "metadata": {},
   "outputs": [],
   "source": [
    "print(f\"Train/Validation data set from: {img_dir}\")\n",
    "\n",
    "ds = co.ds_optimize(\n",
    "    co.train_validation_split(\n",
    "        images_dir=img_dir, \n",
    "        image_size=img_size, \n",
    "        batch_size=batch_size, \n",
    "        validation_split=validation_split,\n",
    "        seed=1577\n",
    "    )\n",
    ")"
   ]
  },
  {
   "cell_type": "code",
   "execution_count": null,
   "id": "7152367c",
   "metadata": {},
   "outputs": [],
   "source": [
    "class_names = ds[0]\n",
    "print(\"Class Names: \", ds[0])"
   ]
  },
  {
   "cell_type": "markdown",
   "id": "209b8bcc",
   "metadata": {},
   "source": [
    "## Display a sample of the images in the train dataset, with their classes"
   ]
  },
  {
   "cell_type": "code",
   "execution_count": null,
   "id": "e5445796",
   "metadata": {},
   "outputs": [],
   "source": [
    "plots.plot_image_samples(img_size, class_names=class_names, batch_ds=ds[1], grid_size=3)"
   ]
  },
  {
   "cell_type": "markdown",
   "id": "bf0d6208",
   "metadata": {},
   "source": [
    "## Build the model"
   ]
  },
  {
   "cell_type": "code",
   "execution_count": null,
   "id": "d46487ed",
   "metadata": {},
   "outputs": [],
   "source": [
    "model = co.build_model(ds = ds, image_size = img_size)\n",
    "model.summary()"
   ]
  },
  {
   "cell_type": "markdown",
   "id": "f581c265",
   "metadata": {},
   "source": [
    "## Train the model with the dataset"
   ]
  },
  {
   "cell_type": "code",
   "execution_count": null,
   "id": "e82aaa56",
   "metadata": {},
   "outputs": [],
   "source": [
    "model_history = co.train_model(model, ds, epochs=epochs)"
   ]
  },
  {
   "cell_type": "markdown",
   "id": "cbac64f4",
   "metadata": {},
   "source": [
    "## Plot the model history to check accuracy"
   ]
  },
  {
   "cell_type": "code",
   "execution_count": null,
   "id": "1d5c0070",
   "metadata": {},
   "outputs": [],
   "source": [
    "plots.plot_model_results(model_history, epochs=epochs)"
   ]
  },
  {
   "cell_type": "code",
   "execution_count": null,
   "id": "edbb3afd",
   "metadata": {},
   "outputs": [],
   "source": [
    "print(co.get_classification_report(model, ds))"
   ]
  },
  {
   "cell_type": "markdown",
   "id": "56f9e135",
   "metadata": {},
   "source": [
    "## Save model"
   ]
  },
  {
   "cell_type": "code",
   "execution_count": null,
   "id": "a6202790",
   "metadata": {},
   "outputs": [],
   "source": [
    "co.save_model(model, 'screenshot-detector-model', class_names)"
   ]
  }
 ],
 "metadata": {
  "kernelspec": {
   "display_name": "ML Python 3.8",
   "language": "python",
   "name": "mlp38"
  },
  "language_info": {
   "codemirror_mode": {
    "name": "ipython",
    "version": 3
   },
   "file_extension": ".py",
   "mimetype": "text/x-python",
   "name": "python",
   "nbconvert_exporter": "python",
   "pygments_lexer": "ipython3",
   "version": "3.8.13"
  }
 },
 "nbformat": 4,
 "nbformat_minor": 5
}
